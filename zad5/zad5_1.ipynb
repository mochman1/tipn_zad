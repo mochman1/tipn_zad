{
 "cells": [
  {
   "cell_type": "code",
   "execution_count": 4,
   "metadata": {},
   "outputs": [
    {
     "name": "stdin",
     "output_type": "stream",
     "text": [
      "Podaj liczbę: 2\n"
     ]
    },
    {
     "name": "stdout",
     "output_type": "stream",
     "text": [
      "Silnia z podanej liczby wynosi: 2\n",
      "Silnia z podanej liczby wynosi: 2\n"
     ]
    }
   ],
   "source": [
    "liczba = int(input(\"Podaj liczbę:\"))\n",
    "i = 1\n",
    "if liczba == 0:\n",
    "    print(\"1\")\n",
    "\n",
    "else:\n",
    "    while liczba >= 1:\n",
    "        i = i * liczba\n",
    "        liczba = liczba - 1\n",
    "        print(\"Silnia z podanej liczby wynosi:\", i)\n",
    "\n",
    "\n",
    "  \n",
    "    "
   ]
  },
  {
   "cell_type": "code",
   "execution_count": null,
   "metadata": {},
   "outputs": [],
   "source": []
  }
 ],
 "metadata": {
  "kernelspec": {
   "display_name": "Python 3",
   "language": "python",
   "name": "python3"
  },
  "language_info": {
   "codemirror_mode": {
    "name": "ipython",
    "version": 3
   },
   "file_extension": ".py",
   "mimetype": "text/x-python",
   "name": "python",
   "nbconvert_exporter": "python",
   "pygments_lexer": "ipython3",
   "version": "3.7.0"
  }
 },
 "nbformat": 4,
 "nbformat_minor": 2
}
