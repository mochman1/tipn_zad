{
 "cells": [
  {
   "cell_type": "code",
   "execution_count": 1,
   "metadata": {},
   "outputs": [],
   "source": [
    "a = \"Zawsze uważnie słucham, gdy ktoś do mnie mówi.\"\n",
    "b = \"Staram się wczuć w czyjąś sytuację przy pomaganiu czy doradzaniu innym.\"\n",
    "c = \"Nie należę do osób, które zostawiają drugiego człowieka w potrzebie.\"\n",
    "d = \"Lubię bezinteresownie pomagać innym.\"\n",
    "e = \"Krzywda drugiego człowieka bardzo mnie dotyka.\"\n",
    "f = \"Z łatwością odczytuję uczucia innych.\"\n",
    "g = \"Należę do osób, które wiedzą kiedy należy się odzezwać, a kiedy po prostu milczeć i wysłuchać.\"\n",
    "h = \"Często tak silnie przeżywam emocje drugiej osoby, że mocno wpływają one na mój nastrój.\"\n",
    "punkty = []"
   ]
  },
  {
   "cell_type": "code",
   "execution_count": 2,
   "metadata": {},
   "outputs": [],
   "source": [
    "def test(os):\n",
    "\n",
    "    lista_pytan = [a, b, c, d, e, f, g, h]\n",
    "    \n",
    "def zadaj_pytanie(a):  \n",
    "    \n",
    "    print(a)\n",
    "    y = input(\"1 oznacza zupełnie się nie zgadzam, a 5 oznacza całkowicie się zgadzam:\")\n",
    "    y = int(y)\n",
    "    if y>5 or y<1:\n",
    "        print(\"Pomyliłeś/aś się przy wpisywaniu - proszę, zacznij od początku!\")\n",
    "    else:\n",
    "        return y"
   ]
  },
  {
   "cell_type": "code",
   "execution_count": 4,
   "metadata": {},
   "outputs": [
    {
     "name": "stdout",
     "output_type": "stream",
     "text": [
      "Zawsze uważnie słucham, gdy ktoś do mnie mówi.\n"
     ]
    },
    {
     "name": "stdin",
     "output_type": "stream",
     "text": [
      "1 oznacza zupełnie się nie zgadzam, a 5 oznacza całkowicie się zgadzam: 5\n"
     ]
    },
    {
     "name": "stdout",
     "output_type": "stream",
     "text": [
      "Staram się wczuć w czyjąś sytuację przy pomaganiu czy doradzaniu innym.\n"
     ]
    },
    {
     "name": "stdin",
     "output_type": "stream",
     "text": [
      "1 oznacza zupełnie się nie zgadzam, a 5 oznacza całkowicie się zgadzam: 5\n"
     ]
    },
    {
     "name": "stdout",
     "output_type": "stream",
     "text": [
      "Nie należę do osób, które zostawiają drugiego człowieka w potrzebie.\n"
     ]
    },
    {
     "name": "stdin",
     "output_type": "stream",
     "text": [
      "1 oznacza zupełnie się nie zgadzam, a 5 oznacza całkowicie się zgadzam: 5\n"
     ]
    },
    {
     "name": "stdout",
     "output_type": "stream",
     "text": [
      "Lubię bezinteresownie pomagać innym.\n"
     ]
    },
    {
     "name": "stdin",
     "output_type": "stream",
     "text": [
      "1 oznacza zupełnie się nie zgadzam, a 5 oznacza całkowicie się zgadzam: 5\n"
     ]
    },
    {
     "name": "stdout",
     "output_type": "stream",
     "text": [
      "Krzywda drugiego człowieka bardzo mnie dotyka.\n"
     ]
    },
    {
     "name": "stdin",
     "output_type": "stream",
     "text": [
      "1 oznacza zupełnie się nie zgadzam, a 5 oznacza całkowicie się zgadzam: 5\n"
     ]
    },
    {
     "name": "stdout",
     "output_type": "stream",
     "text": [
      "Z łatwością odczytuję uczucia innych.\n"
     ]
    },
    {
     "name": "stdin",
     "output_type": "stream",
     "text": [
      "1 oznacza zupełnie się nie zgadzam, a 5 oznacza całkowicie się zgadzam: 5\n"
     ]
    },
    {
     "name": "stdout",
     "output_type": "stream",
     "text": [
      "Należę do osób, które wiedzą kiedy należy się odzezwać, a kiedy po prostu milczeć i wysłuchać.\n"
     ]
    },
    {
     "name": "stdin",
     "output_type": "stream",
     "text": [
      "1 oznacza zupełnie się nie zgadzam, a 5 oznacza całkowicie się zgadzam: 5\n"
     ]
    },
    {
     "name": "stdout",
     "output_type": "stream",
     "text": [
      "Często tak silnie przeżywam emocje drugiej osoby, że mocno wpływają one na mój nastrój.\n"
     ]
    },
    {
     "name": "stdin",
     "output_type": "stream",
     "text": [
      "1 oznacza zupełnie się nie zgadzam, a 5 oznacza całkowicie się zgadzam: 5\n"
     ]
    },
    {
     "name": "stdout",
     "output_type": "stream",
     "text": [
      "Twój wynik to 40 . Wspaniale!!! Jesteś BARDZO empatyczną osobą!\n"
     ]
    }
   ],
   "source": [
    "pkt = zadaj_pytanie(a)\n",
    "punkty.append(pkt)\n",
    "pkt = zadaj_pytanie(b)\n",
    "punkty.append(pkt)\n",
    "pkt = zadaj_pytanie(c)\n",
    "punkty.append(pkt)\n",
    "pkt = zadaj_pytanie(d)\n",
    "punkty.append(pkt)\n",
    "pkt = zadaj_pytanie(e)\n",
    "punkty.append(pkt)\n",
    "pkt = zadaj_pytanie(f)\n",
    "punkty.append(pkt)\n",
    "pkt = zadaj_pytanie(g)\n",
    "punkty.append(pkt)\n",
    "pkt = zadaj_pytanie(h)\n",
    "punkty.append(pkt)\n",
    "wynik = sum(punkty)\n",
    "wynik = int(wynik)\n",
    "if wynik > 5 and wynik < 10:\n",
    "    print(\"Twój wynik to\", wynik, \".\", \"Jesteś raczej mało epmatyczny/a... \")\n",
    "elif wynik == 5:\n",
    "    print(\"Twój wynik to\", wynik, \".\", \"Nie jesteś w ogóle empatyczny/a!\")  \n",
    "elif wynik >= 10 and wynik < 25:\n",
    "    print(\"Twój wynik to\", wynik, \".\", \"Nieźle, można powiedzieć, że jesteś empatyczny/a!\")   \n",
    "elif wynik >= 25 and wynik < 40:\n",
    "    print(\"Twój wynik to\", wynik, \".\", \"Zdecydowanie jesteś empatyczny/a\")\n",
    "elif wynik == 40:\n",
    "    print(\"Twój wynik to\", wynik, \".\", \"Wspaniale!!! Jesteś BARDZO empatyczną osobą!\")\n",
    "\n",
    "if wynik > 0:\n",
    "    punkty.pop(0)\n",
    "    punkty.pop(0)\n",
    "    punkty.pop(0)\n",
    "    punkty.pop(0)\n",
    "    punkty.pop(0)\n",
    "    punkty.pop(0)\n",
    "    punkty.pop(0)\n",
    "    punkty.pop(0)\n",
    "else:\n",
    "    print(\"Dziękuję Ci za poświęcony czas i zrobienie testu.\")"
   ]
  },
  {
   "cell_type": "code",
   "execution_count": null,
   "metadata": {},
   "outputs": [],
   "source": []
  }
 ],
 "metadata": {
  "kernelspec": {
   "display_name": "Python 3",
   "language": "python",
   "name": "python3"
  },
  "language_info": {
   "codemirror_mode": {
    "name": "ipython",
    "version": 3
   },
   "file_extension": ".py",
   "mimetype": "text/x-python",
   "name": "python",
   "nbconvert_exporter": "python",
   "pygments_lexer": "ipython3",
   "version": "3.7.0"
  }
 },
 "nbformat": 4,
 "nbformat_minor": 2
}
